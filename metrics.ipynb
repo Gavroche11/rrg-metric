{
 "cells": [
  {
   "cell_type": "code",
   "execution_count": null,
   "metadata": {},
   "outputs": [],
   "source": [
    "import json"
   ]
  },
  {
   "cell_type": "code",
   "execution_count": null,
   "metadata": {},
   "outputs": [],
   "source": [
    "def foo(x: float, digits: int = 3) -> str:\n",
    "    return f'{x:.{digits}f}'[1:]"
   ]
  },
  {
   "cell_type": "code",
   "execution_count": null,
   "metadata": {},
   "outputs": [
    {
     "name": "stdout",
     "output_type": "stream",
     "text": [
      "& .111 & .348 & .281 & .893 & \\color{red} .296 & \\color{red} .683 & .330 & .339 & .249 \\\\\n"
     ]
    }
   ],
   "source": [
    "model = 'v2.6-lora-6692'\n",
    "\n",
    "metrics = json.load(open(f'/data1/workspace/bih1122/test_metrics/{model}/mimic_test_outputs_metrics.json'))\n",
    "\n",
    "color = '\\color{red}'\n",
    "\n",
    "bleu = foo(metrics['bleu'])\n",
    "meteor = foo(metrics['meteor'])\n",
    "rouge = foo(metrics['rouge'])\n",
    "bertscore = foo(metrics['bertscore'])\n",
    "macro14 = foo(metrics['f1chexbert']['macro_f1_14'])\n",
    "micro14 = foo(metrics['f1chexbert']['micro_f1_14'])\n",
    "macro5 = foo(metrics['f1chexbert']['macro_f1_5'])\n",
    "micro5 = foo(metrics['f1chexbert']['micro_f1_5'])\n",
    "micro14 = foo(metrics['f1chexbert']['micro_f1_14'])\n",
    "f1rg = foo(metrics['f1radgraph'])\n",
    "\n",
    "mimic = f\"& {bleu} & {meteor} & {rouge} & {bertscore} & {color} {macro14} & {color} {micro14} & {macro5} & {micro5} & {f1rg}\"\n",
    "\n",
    "metrics = json.load(open(f'/data1/workspace/bih1122/test_metrics_openi_v1.1.1/{model}/openi_test_outputs_metrics.json'))\n",
    "\n",
    "bleu = foo(metrics['bleu'])\n",
    "meteor = foo(metrics['meteor'])\n",
    "rouge = foo(metrics['rouge'])\n",
    "bertscore = foo(metrics['bertscore'])\n",
    "macro14 = foo(metrics['f1chexbert']['macro_f1_14'])\n",
    "micro14 = foo(metrics['f1chexbert']['micro_f1_14'])\n",
    "macro5 = foo(metrics['f1chexbert']['macro_f1_5'])\n",
    "micro5 = foo(metrics['f1chexbert']['micro_f1_5'])\n",
    "micro14 = foo(metrics['f1chexbert']['micro_f1_14'])\n",
    "f1rg = foo(metrics['f1radgraph'])\n",
    "\n",
    "openi = f\"& {bleu} & {meteor} & {rouge} & {bertscore} & {color} {macro14} & {color} {micro14} & {macro5} & {micro5} & {f1rg}\"\n",
    "\n",
    "print(f\"{model}\\n\\t{mimic}\\n\\t{openi} \\\\\\\\\")"
   ]
  },
  {
   "cell_type": "code",
   "execution_count": null,
   "metadata": {},
   "outputs": [],
   "source": []
  }
 ],
 "metadata": {
  "kernelspec": {
   "display_name": "rrg-metric",
   "language": "python",
   "name": "python3"
  },
  "language_info": {
   "codemirror_mode": {
    "name": "ipython",
    "version": 3
   },
   "file_extension": ".py",
   "mimetype": "text/x-python",
   "name": "python",
   "nbconvert_exporter": "python",
   "pygments_lexer": "ipython3",
   "version": "3.10.16"
  }
 },
 "nbformat": 4,
 "nbformat_minor": 2
}
