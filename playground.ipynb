{
 "cells": [
  {
   "cell_type": "markdown",
   "metadata": {},
   "source": [
    "## Imports"
   ]
  },
  {
   "cell_type": "code",
   "execution_count": 1,
   "metadata": {},
   "outputs": [],
   "source": [
    "# import os\n",
    "# os.environ[\"CUDA_VISIBLE_DEVICES\"] = \"5\""
   ]
  },
  {
   "cell_type": "code",
   "execution_count": 1,
   "metadata": {},
   "outputs": [],
   "source": [
    "import pandas as pd\n",
    "import numpy as np"
   ]
  },
  {
   "cell_type": "code",
   "execution_count": 2,
   "metadata": {},
   "outputs": [
    {
     "name": "stderr",
     "output_type": "stream",
     "text": [
      "/home/bih1122/miniconda3/envs/rrg-metric/lib/python3.10/site-packages/tqdm/auto.py:21: TqdmWarning: IProgress not found. Please update jupyter and ipywidgets. See https://ipywidgets.readthedocs.io/en/stable/user_install.html\n",
      "  from .autonotebook import tqdm as notebook_tqdm\n"
     ]
    }
   ],
   "source": [
    "import rrg_metric"
   ]
  },
  {
   "cell_type": "markdown",
   "metadata": {},
   "source": [
    "# Test"
   ]
  },
  {
   "cell_type": "code",
   "execution_count": 4,
   "metadata": {},
   "outputs": [
    {
     "data": {
      "text/plain": [
       "['bleu', 'rouge', 'meteor', 'bertscore', 'f1radgraph', 'f1chexbert']"
      ]
     },
     "execution_count": 4,
     "metadata": {},
     "output_type": "execute_result"
    }
   ],
   "source": [
    "rrg_metric.AVAILABLE_METRICS"
   ]
  },
  {
   "cell_type": "code",
   "execution_count": 3,
   "metadata": {},
   "outputs": [],
   "source": [
    "preds = [\"no acute cardiopulmonary abnormality\",\n",
    "        \"et tube terminates 2 cm above the carina retraction by several centimeters is recommended for more optimal placement bibasilar consolidations better assessed on concurrent chest ct\"\n",
    "]\n",
    "\n",
    "gts = [\"no acute cardiopulmonary abnormality\",\n",
    "        \"endotracheal tube terminates 2 5 cm above the carina bibasilar opacities likely represent atelectasis or aspiration\",\n",
    "]"
   ]
  },
  {
   "cell_type": "code",
   "execution_count": 14,
   "metadata": {},
   "outputs": [
    {
     "name": "stderr",
     "output_type": "stream",
     "text": [
      "\n",
      "\u001b[A\n",
      "\u001b[A\n",
      "Computing 'bleu' scores...:   0%|          | 0/2 [00:02<?, ?it/s]\n"
     ]
    },
    {
     "data": {
      "text/plain": [
       "0.20687206010259407"
      ]
     },
     "execution_count": 14,
     "metadata": {},
     "output_type": "execute_result"
    }
   ],
   "source": [
    "bleu = rrg_metric.compute(\"bleu\",        preds=preds, gts=gts, verbose=True, per_sample=False)\n",
    "bleu['total_results']"
   ]
  },
  {
   "cell_type": "code",
   "execution_count": 16,
   "metadata": {},
   "outputs": [
    {
     "name": "stderr",
     "output_type": "stream",
     "text": [
      "\n",
      "\u001b[A\n",
      "\u001b[A\n",
      "Computing 'rouge' scores...:   0%|          | 0/2 [00:01<?, ?it/s]\n"
     ]
    },
    {
     "data": {
      "text/plain": [
       "0.6904761904761905"
      ]
     },
     "execution_count": 16,
     "metadata": {},
     "output_type": "execute_result"
    }
   ],
   "source": [
    "rrg_metric.compute(\"rouge\",        preds=preds, gts=gts, verbose=True, per_sample=False)['total_results'].item()"
   ]
  },
  {
   "cell_type": "code",
   "execution_count": 20,
   "metadata": {},
   "outputs": [
    {
     "data": {
      "text/plain": [
       "1.34746385"
      ]
     },
     "execution_count": 20,
     "metadata": {},
     "output_type": "execute_result"
    }
   ],
   "source": [
    "float(np.float64(1.34746385))"
   ]
  },
  {
   "cell_type": "code",
   "execution_count": 4,
   "metadata": {},
   "outputs": [
    {
     "name": "stderr",
     "output_type": "stream",
     "text": [
      "Loading 'meteor' computer...:   0%|          | 0/2 [00:00<?, ?it/s][nltk_data] Downloading package wordnet to /home/bih1122/nltk_data...\n",
      "[nltk_data]   Package wordnet is already up-to-date!\n",
      "[nltk_data] Downloading package punkt_tab to\n",
      "[nltk_data]     /home/bih1122/nltk_data...\n",
      "[nltk_data]   Package punkt_tab is already up-to-date!\n",
      "[nltk_data] Downloading package omw-1.4 to /home/bih1122/nltk_data...\n",
      "[nltk_data]   Package omw-1.4 is already up-to-date!\n",
      "Computing 'meteor' scores...:   0%|          | 0/2 [01:46<?, ?it/s]\n"
     ]
    },
    {
     "data": {
      "text/plain": [
       "{'total_results': np.float64(0.7251838235294118), 'per_sample_results': None}"
      ]
     },
     "execution_count": 4,
     "metadata": {},
     "output_type": "execute_result"
    }
   ],
   "source": [
    "met = rrg_metric.compute(\"meteor\",      preds=preds, gts=gts, verbose=True, per_sample=False)\n",
    "met"
   ]
  },
  {
   "cell_type": "code",
   "execution_count": null,
   "metadata": {},
   "outputs": [],
   "source": [
    "rrg_metric.compute(\"f1chexbert\",  preds=preds, gts=gts, verbose=True, per_sample=False)"
   ]
  },
  {
   "cell_type": "code",
   "execution_count": 7,
   "metadata": {},
   "outputs": [
    {
     "name": "stderr",
     "output_type": "stream",
     "text": [
      "Computing 'rouge' scores...:   0%|          | 0/2 [00:01<?, ?it/s]\n"
     ]
    },
    {
     "data": {
      "text/plain": [
       "{'total_results': np.float64(0.6904761904761905), 'per_sample_results': None}"
      ]
     },
     "execution_count": 7,
     "metadata": {},
     "output_type": "execute_result"
    }
   ],
   "source": [
    "# rrg_metric.compute(\"bleu\",        preds=preds, gts=gts, verbose=True, per_sample=False)\n",
    "rrg_metric.compute(\"rouge\",       preds=preds, gts=gts, verbose=True, per_sample=False)\n",
    "# rrg_metric.compute(\"meteor\",      preds=preds, gts=gts, verbose=True, per_sample=False)\n",
    "# rrg_metric.compute(\"bertscore\",   preds=preds, gts=gts, verbose=True, per_sample=False)\n",
    "# rrg_metric.compute(\"f1chexbert\",  preds=preds, gts=gts, verbose=True, per_sample=False)\n",
    "# rrg_metric.compute(\"f1radgraph\",  preds=preds, gts=gts, verbose=True, per_sample=False)"
   ]
  }
 ],
 "metadata": {
  "kernelspec": {
   "display_name": "rrg-metric",
   "language": "python",
   "name": "python3"
  },
  "language_info": {
   "codemirror_mode": {
    "name": "ipython",
    "version": 3
   },
   "file_extension": ".py",
   "mimetype": "text/x-python",
   "name": "python",
   "nbconvert_exporter": "python",
   "pygments_lexer": "ipython3",
   "version": "3.10.16"
  }
 },
 "nbformat": 4,
 "nbformat_minor": 2
}
