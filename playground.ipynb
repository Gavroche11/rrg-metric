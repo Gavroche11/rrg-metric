{
 "cells": [
  {
   "cell_type": "markdown",
   "metadata": {},
   "source": [
    "## Imports"
   ]
  },
  {
   "cell_type": "code",
   "execution_count": 1,
   "metadata": {},
   "outputs": [],
   "source": [
    "# import os\n",
    "# os.environ[\"CUDA_VISIBLE_DEVICES\"] = \"5\""
   ]
  },
  {
   "cell_type": "code",
   "execution_count": 2,
   "metadata": {},
   "outputs": [],
   "source": [
    "import pandas as pd\n",
    "import numpy as np"
   ]
  },
  {
   "cell_type": "code",
   "execution_count": 3,
   "metadata": {},
   "outputs": [],
   "source": [
    "import rrg_metric"
   ]
  },
  {
   "cell_type": "markdown",
   "metadata": {},
   "source": [
    "# Test"
   ]
  },
  {
   "cell_type": "code",
   "execution_count": 4,
   "metadata": {},
   "outputs": [
    {
     "data": {
      "text/plain": [
       "['bleu', 'rouge', 'meteor', 'bertscore', 'f1radgraph', 'f1chexbert']"
      ]
     },
     "execution_count": 4,
     "metadata": {},
     "output_type": "execute_result"
    }
   ],
   "source": [
    "rrg_metric.AVAILABLE_METRICS"
   ]
  },
  {
   "cell_type": "code",
   "execution_count": 5,
   "metadata": {},
   "outputs": [],
   "source": [
    "preds = [\"no acute cardiopulmonary abnormality\",\n",
    "        \"et tube terminates 2 cm above the carina retraction by several centimeters is recommended for more optimal placement bibasilar consolidations better assessed on concurrent chest ct\"\n",
    "]\n",
    "\n",
    "gts = [\"no acute cardiopulmonary abnormality\",\n",
    "        \"endotracheal tube terminates 2 5 cm above the carina bibasilar opacities likely represent atelectasis or aspiration\",\n",
    "]"
   ]
  },
  {
   "cell_type": "code",
   "execution_count": 12,
   "metadata": {},
   "outputs": [
    {
     "name": "stderr",
     "output_type": "stream",
     "text": [
      "Computing 'rouge' scores...: 100%|██████████| 2/2 [01:51<00:00, 55.90s/it] \n"
     ]
    },
    {
     "data": {
      "text/plain": [
       "{'total_results': np.float64(0.6904761904761905),\n",
       " 'per_sample_results': [np.float64(1.0), np.float64(0.380952380952381)]}"
      ]
     },
     "execution_count": 12,
     "metadata": {},
     "output_type": "execute_result"
    }
   ],
   "source": [
    "# rrg_metric.compute(\"bleu\",        preds=preds, gts=gts, verbose=True, per_sample=True)\n",
    "rrg_metric.compute(\"rouge\",       preds=preds, gts=gts, verbose=True, per_sample=True)\n",
    "# rrg_metric.compute(\"meteor\",      preds=preds, gts=gts, verbose=True, per_sample=True)\n",
    "# rrg_metric.compute(\"bertscore\",   preds=preds, gts=gts, verbose=True, per_sample=True)\n",
    "# rrg_metric.compute(\"f1chexbert\",  preds=preds, gts=gts, verbose=True, per_sample=True)\n",
    "# rrg_metric.compute(\"f1radgraph\",  preds=preds, gts=gts, verbose=True, per_sample=True)"
   ]
  }
 ],
 "metadata": {
  "kernelspec": {
   "display_name": "rrg-metric",
   "language": "python",
   "name": "rrg-metric"
  },
  "language_info": {
   "codemirror_mode": {
    "name": "ipython",
    "version": 3
   },
   "file_extension": ".py",
   "mimetype": "text/x-python",
   "name": "python",
   "nbconvert_exporter": "python",
   "pygments_lexer": "ipython3",
   "version": "3.10.16"
  }
 },
 "nbformat": 4,
 "nbformat_minor": 2
}
